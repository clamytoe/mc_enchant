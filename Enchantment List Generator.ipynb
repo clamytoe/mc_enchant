{
 "cells": [
  {
   "cell_type": "markdown",
   "metadata": {},
   "source": [
    "# Minecraft Enchantment List Generator"
   ]
  },
  {
   "cell_type": "code",
   "execution_count": 2,
   "metadata": {},
   "outputs": [],
   "source": [
    "from urllib.request import urlretrieve\n",
    "from os import path\n",
    "\n",
    "import pandas as pd\n",
    "from bs4 import BeautifulSoup as Soup\n",
    "\n",
    "FILE = path.join(\"/tmp\", \"enchantment_list_pc.html\")\n",
    "OUTFILE = \"enchantments.csv\"\n",
    "URL = \"https://www.digminecraft.com/lists/enchantment_list_pc.php\"\n",
    "\n",
    "if not path.isfile(FILE):\n",
    "    urlretrieve(URL, FILE)"
   ]
  },
  {
   "cell_type": "code",
   "execution_count": 3,
   "metadata": {},
   "outputs": [],
   "source": [
    "def enchants_permitted():\n",
    "    with open(FILE) as file:\n",
    "        soup = Soup(file, \"html.parser\")\n",
    "    \n",
    "    table = soup.find(\"table\", {\"id\": \"minecraft_items\"})\n",
    "    permitted = []\n",
    "    unwanted = (\n",
    "        \".png\",\n",
    "        \"_sm\",\n",
    "        \"iron_\",\n",
    "        \"enchanted_\",\n",
    "    )\n",
    "\n",
    "    for img in table.find_all(\"img\"):\n",
    "        item_types = img[\"data-src\"].split(\"/\")[-1]\n",
    "        if \"fishing_rod\" in item_types:\n",
    "            item_types = item_types.replace(\"fishing_rod\", \"fishingrod\")\n",
    "        \n",
    "        for s in unwanted:\n",
    "            if s in item_types:\n",
    "                item_types = item_types.replace(s, \"\")\n",
    "        \n",
    "        item_types = item_types.split(\"_\")\n",
    "        item_types = [\"fishing_rod\" if item == \"fishingrod\" else item for item in item_types]\n",
    "        permitted.append(\" \".join(item_types))\n",
    "\n",
    "    return permitted"
   ]
  },
  {
   "cell_type": "code",
   "execution_count": 4,
   "metadata": {},
   "outputs": [],
   "source": [
    "raw_data = pd.read_html(FILE)[0]\n",
    "names = raw_data[\"Enchantment(Minecraft ID Name)\"].apply(lambda name: name.split(\"(\")[0])\n",
    "id_names = raw_data[\"Enchantment(Minecraft ID Name)\"].apply(lambda name: name.split(\"(\")[1].replace(\")\", \"\"))\n",
    "data = pd.DataFrame(\n",
    "    dict(\n",
    "        id_name = id_names,\n",
    "        name = names,\n",
    "        max_level = raw_data[\"Max Level\"],\n",
    "        description = raw_data[\"Description\"],\n",
    "        items = raw_data[\"Items\"],\n",
    "    )\n",
    ")\n",
    "data[\"items\"] = pd.Series(enchants_permitted())\n",
    "data.set_index(\"id_name\", inplace=True)"
   ]
  },
  {
   "cell_type": "code",
   "execution_count": 6,
   "metadata": {},
   "outputs": [],
   "source": [
    "roma_num = {\"I\": 1, \"II\": 2, \"III\": 3, \"IV\": 4, \"V\": 5}"
   ]
  },
  {
   "cell_type": "code",
   "execution_count": 10,
   "metadata": {},
   "outputs": [],
   "source": [
    "data[\"max_level\"] = data[\"max_level\"].apply(lambda x: roma_num[x])"
   ]
  },
  {
   "cell_type": "code",
   "execution_count": 11,
   "metadata": {},
   "outputs": [
    {
     "data": {
      "text/html": [
       "<div>\n",
       "<style scoped>\n",
       "    .dataframe tbody tr th:only-of-type {\n",
       "        vertical-align: middle;\n",
       "    }\n",
       "\n",
       "    .dataframe tbody tr th {\n",
       "        vertical-align: top;\n",
       "    }\n",
       "\n",
       "    .dataframe thead th {\n",
       "        text-align: right;\n",
       "    }\n",
       "</style>\n",
       "<table border=\"1\" class=\"dataframe\">\n",
       "  <thead>\n",
       "    <tr style=\"text-align: right;\">\n",
       "      <th></th>\n",
       "      <th>name</th>\n",
       "      <th>max_level</th>\n",
       "      <th>description</th>\n",
       "      <th>items</th>\n",
       "    </tr>\n",
       "    <tr>\n",
       "      <th>id_name</th>\n",
       "      <th></th>\n",
       "      <th></th>\n",
       "      <th></th>\n",
       "      <th></th>\n",
       "    </tr>\n",
       "  </thead>\n",
       "  <tbody>\n",
       "    <tr>\n",
       "      <th>aqua_affinity</th>\n",
       "      <td>Aqua Affinity</td>\n",
       "      <td>1</td>\n",
       "      <td>Speeds up how fast you can mine blocks underwater</td>\n",
       "      <td>helmet</td>\n",
       "    </tr>\n",
       "    <tr>\n",
       "      <th>bane_of_arthropods</th>\n",
       "      <td>Bane of Arthropods</td>\n",
       "      <td>5</td>\n",
       "      <td>Increases attack damage against arthropods</td>\n",
       "      <td>sword axe</td>\n",
       "    </tr>\n",
       "    <tr>\n",
       "      <th>blast_protection</th>\n",
       "      <td>Blast Protection</td>\n",
       "      <td>4</td>\n",
       "      <td>Reduces blast and explosion damage</td>\n",
       "      <td>armor</td>\n",
       "    </tr>\n",
       "    <tr>\n",
       "      <th>channeling</th>\n",
       "      <td>Channeling</td>\n",
       "      <td>1</td>\n",
       "      <td>Summons a lightning bolt at a targeted mob whe...</td>\n",
       "      <td>trident</td>\n",
       "    </tr>\n",
       "    <tr>\n",
       "      <th>binding_curse</th>\n",
       "      <td>Curse of Binding</td>\n",
       "      <td>1</td>\n",
       "      <td>Cursed item can not be removed from player</td>\n",
       "      <td>armor</td>\n",
       "    </tr>\n",
       "  </tbody>\n",
       "</table>\n",
       "</div>"
      ],
      "text/plain": [
       "                                  name  max_level  \\\n",
       "id_name                                             \n",
       "aqua_affinity            Aqua Affinity          1   \n",
       "bane_of_arthropods  Bane of Arthropods          5   \n",
       "blast_protection      Blast Protection          4   \n",
       "channeling                  Channeling          1   \n",
       "binding_curse         Curse of Binding          1   \n",
       "\n",
       "                                                          description  \\\n",
       "id_name                                                                 \n",
       "aqua_affinity       Speeds up how fast you can mine blocks underwater   \n",
       "bane_of_arthropods         Increases attack damage against arthropods   \n",
       "blast_protection                   Reduces blast and explosion damage   \n",
       "channeling          Summons a lightning bolt at a targeted mob whe...   \n",
       "binding_curse              Cursed item can not be removed from player   \n",
       "\n",
       "                        items  \n",
       "id_name                        \n",
       "aqua_affinity          helmet  \n",
       "bane_of_arthropods  sword axe  \n",
       "blast_protection        armor  \n",
       "channeling            trident  \n",
       "binding_curse           armor  "
      ]
     },
     "execution_count": 11,
     "metadata": {},
     "output_type": "execute_result"
    }
   ],
   "source": [
    "data.head()"
   ]
  },
  {
   "cell_type": "code",
   "execution_count": 5,
   "metadata": {},
   "outputs": [],
   "source": [
    "data.to_csv(OUTFILE)"
   ]
  }
 ],
 "metadata": {
  "kernelspec": {
   "display_name": "Python 3",
   "language": "python",
   "name": "python3"
  },
  "language_info": {
   "codemirror_mode": {
    "name": "ipython",
    "version": 3
   },
   "file_extension": ".py",
   "mimetype": "text/x-python",
   "name": "python",
   "nbconvert_exporter": "python",
   "pygments_lexer": "ipython3",
   "version": "3.7.3"
  }
 },
 "nbformat": 4,
 "nbformat_minor": 2
}
